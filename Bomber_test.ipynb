{
  "nbformat": 4,
  "nbformat_minor": 0,
  "metadata": {
    "colab": {
      "provenance": [],
      "include_colab_link": true
    },
    "kernelspec": {
      "name": "python3",
      "display_name": "Python 3"
    },
    "language_info": {
      "name": "python"
    }
  },
  "cells": [
    {
      "cell_type": "markdown",
      "metadata": {
        "id": "view-in-github",
        "colab_type": "text"
      },
      "source": [
        "<a href=\"https://colab.research.google.com/github/niq1487/Data_Analyst_Internship_Curriculum/blob/master/Bomber_test.ipynb\" target=\"_parent\"><img src=\"https://colab.research.google.com/assets/colab-badge.svg\" alt=\"Open In Colab\"/></a>"
      ]
    },
    {
      "cell_type": "markdown",
      "source": [
        "# 💣 Бомбер 2.0  💥\n",
        "\n",
        "---\n",
        "Этот ноутбук понадобится тебе в редком кейсе, когда нужно обстрелять релизную версию проекта на проде (не в симуляции).\n",
        "\n",
        "Для обстрела проекта в симуляции воспользуйся интерфейсом в Истории диалогов 2.0 \"Заливка примеров\"\n",
        "\n",
        "Здесь будет использоваться API v2. С документацией можно ознакомиться [здесь](https://documenter.getpostman.com/view/21809341/2s9Y5Ww2xX#b59c4be4-f1da-4f98-8bb3-929d797324d4)\n",
        "\n",
        "\n",
        "\n",
        "---"
      ],
      "metadata": {
        "id": "1PVGSdVd99if"
      }
    },
    {
      "cell_type": "markdown",
      "source": [
        "# ⚡ Подготовительные работы\n",
        "\n",
        "(!) Этот бомбер будет отправлять запросы в прод, поэтому убедись, что эти диалоги не будут прайситься и не испортят статистику в проекте.\n",
        "\n",
        "Чтобы всё заработало, нужно:\n",
        "1. подключить проект к входящей интеграции \"external\" - [тык](https://supportai.yandex/incoming-integrations)\n",
        "\n",
        "    ![image.png](data:image/png;base64,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)\n",
        "\n",
        "2. \"занулить\" ip-адреса, как показано на скрине - [тык](https://supportai.yandex/projects-list)\n",
        "\n",
        "    ![image.png](data:image/png;base64,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)\n",
        "\n",
        "3. Сохранить себе api-key с вкладки \"Список проектов\" - [тык](https://supportai.yandex/projects-list)"
      ],
      "metadata": {
        "id": "hB6rJSr7wfx3"
      }
    },
    {
      "cell_type": "code",
      "execution_count": 1,
      "metadata": {
        "id": "-MVJ-2x7HrO-"
      },
      "outputs": [],
      "source": [
        "# @title Подгружаем и импортируем нужные для работы модули { vertical-output: true, form-width: \"40%\", display-mode: \"form\" }\n",
        "# @title  { form-width: \"40%\" }\n",
        "# @title  { form-width: \"200px\" }\n",
        "\n",
        "# @markdown Выполни этот блок, нажав на [▶]\n",
        "\n",
        "!pip install requests pandas tqdm\n",
        "\n",
        "import io\n",
        "import json\n",
        "import os\n",
        "import time\n",
        "\n",
        "from google.colab import files\n",
        "\n",
        "import pandas as pd\n",
        "import requests\n",
        "from tqdm.auto import tqdm\n",
        "from IPython.display import clear_output\n",
        "\n",
        "clear_output(wait=False)"
      ]
    },
    {
      "cell_type": "code",
      "source": [
        "# @title Заполняем данные о проекте { vertical-output: true, form-width: \"40%\", display-mode: \"form\" }\n",
        "# @title  { form-width: \"40%\" }\n",
        "# @title  { form-width: \"200px\" }\n",
        "# @markdown 1.\n",
        "# @markdown Выполни блок, нажав на [▶]\n",
        "\n",
        "\n",
        "\n",
        "slug = str(input(\"project_slug: \")) #= \"clustering_test_dialog\"\n",
        "# @markdown 2.\n",
        "# @markdown Введи слаг проекта (например: clustering_test_dialog)\n",
        "\n",
        "api_key = str(input(\"api_key: \")) #= \"910483e3f63a9742e9ace5ad6fd1028f500b36fcf0b0ccd89ea921c9307be7ae\"\n",
        "# @markdown 3.\n",
        "# @markdown Введи api_key этого проекта\n",
        "\n",
        "rps = 1\n",
        "\n",
        "clear_output(wait=False)"
      ],
      "metadata": {
        "id": "U0t-wAPVoHDs"
      },
      "execution_count": 2,
      "outputs": []
    },
    {
      "cell_type": "code",
      "source": [
        "# @title Загружаем таблицу { vertical-output: true, form-width: \"40%\", display-mode: \"form\" }\n",
        "# @title  { form-width: \"40%\" }\n",
        "# @title  { form-width: \"200px\" }\n",
        "\n",
        "# @markdown 1. Выполни этот блок, нажав на [▶]\n",
        "\n",
        "# @markdown 2. Выбери фаил для загрузки\n",
        "\n",
        "uploaded = files.upload()\n",
        "\n",
        "# @markdown 3. Дождись выполнения блока\n",
        "filename = next(iter(uploaded))\n",
        "\n",
        "extension = os.path.splitext(filename)[1]\n",
        "\n",
        "if extension == '.xlsx':\n",
        "    df = pd.read_excel(filename)\n",
        "    clear_output(wait=False)\n",
        "elif extension == '.csv':\n",
        "    df = pd.read_csv(filename)\n",
        "    clear_output(wait=False)\n",
        "elif extension == '.tsv':\n",
        "    df = pd.read_csv(filename, delimiter='\\t')\n",
        "    clear_output(wait=False)\n",
        "else:\n",
        "    print(\"Неподдерживаемое расширение файла\")\n",
        "    clear_output(wait=True)\n",
        "\n",
        "# print(df)"
      ],
      "metadata": {
        "id": "Kb3Frc3Za9VH"
      },
      "execution_count": 3,
      "outputs": []
    },
    {
      "cell_type": "code",
      "source": [
        "# @title Запускаем бомбер { vertical-output: true, form-width: \"40%\", display-mode: \"form\" }\n",
        "# @title  { form-width: \"40%\" }\n",
        "# @title  { form-width: \"200px\" }\n",
        "\n",
        "# @markdown 1. Выполни этот блок, нажав на [▶]\n",
        "\n",
        "url = f\"https://supportai-api.taxi.yandex.net/supportai-api/v2/external/external/basic?project_id={slug}&api_key={api_key}\"\n",
        "delay = 1/rps\n",
        "\n",
        "columns_dict = {}\n",
        "for column in df.columns:\n",
        "    columns_dict[column] = df[column].tolist()\n",
        "\n",
        "bodies = []\n",
        "response_results = []\n",
        "\n",
        "for i in range(len(columns_dict[\"text\"])):\n",
        "    body = {\"text\": (str(columns_dict[\"text\"][i]) if str(columns_dict[\"text\"][i]).lower() != 'nan' else ''), \"features\": []}\n",
        "    for column in columns_dict:\n",
        "        if (column != \"text\" and not str(columns_dict[column][i]).lower() == 'nan' and not column == ''):\n",
        "            body[\"features\"].append({\n",
        "                \"key\": str(column),\n",
        "                \"value\": str(columns_dict[column][i])\n",
        "            })\n",
        "    bodies.append(body)\n",
        "\n",
        "# @markdown 2. Дождись окончания загрузки\n",
        "\n",
        "with tqdm(bodies, desc='Отправка запросов') as progress_bar:\n",
        "    for body in progress_bar:\n",
        "        response = requests.post(url, json=body)\n",
        "        response_results.append((response.status_code, response.text))\n",
        "        print((response.status_code, response.text))\n",
        "        progress_bar.set_postfix({'status': response.status_code, 'response': response.text})\n",
        "        time.sleep(delay)\n",
        "\n",
        "# for result in response_results:\n",
        "#     print(result)\n",
        "\n",
        "clear_output(wait=True)"
      ],
      "metadata": {
        "id": "OpSGav2BjNH2"
      },
      "execution_count": null,
      "outputs": []
    },
    {
      "cell_type": "code",
      "source": [
        "# @title Прибраем за собой { vertical-output: true, form-width: \"40%\", display-mode: \"form\" }\n",
        "# @title  { form-width: \"40%\" }\n",
        "# @title  { form-width: \"200px\" }\n",
        "\n",
        "# @markdown 1. Выполни этот блок, нажав на [▶], чтобы удалить загруженный файл и записанные переменные\n",
        "\n",
        "answer = str(input(\"Y/N: \"))\n",
        "accepted = bool(answer == \"Y\" or answer == \"y\")\n",
        "\n",
        "if accepted:\n",
        "\n",
        "    for file in os.listdir('/content/'):\n",
        "        if os.path.exists(filename):\n",
        "            os.remove(filename)\n",
        "\n",
        "    for name in dir():\n",
        "        if not name.startswith(\"_\"):\n",
        "            del globals()[name]\n",
        "\n",
        "    # os.kill(os.getpid(), 9)\n",
        "\n",
        "    print(\"Всё удалено 👌\")\n",
        "else:\n",
        "    clear_output(wait=False)\n",
        "\n",
        "# !rm -rf /root/.local/share/jupyter/nbmetadata/*"
      ],
      "metadata": {
        "id": "E5cVwDaJ4oHL",
        "colab": {
          "base_uri": "https://localhost:8080/"
        },
        "outputId": "fd70799e-a318-41cc-b0a0-9652f9a63767"
      },
      "execution_count": 5,
      "outputs": [
        {
          "output_type": "stream",
          "name": "stdout",
          "text": [
            "Y/N: y\n",
            "Всё удалено 👌\n"
          ]
        }
      ]
    }
  ]
}